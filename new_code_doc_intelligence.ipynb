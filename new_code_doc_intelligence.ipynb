{
 "cells": [
  {
   "cell_type": "code",
   "execution_count": 1,
   "id": "7e31334d",
   "metadata": {},
   "outputs": [
    {
     "name": "stdout",
     "output_type": "stream",
     "text": [
      "Collecting PyMuPDF\n",
      "  Obtaining dependency information for PyMuPDF from https://files.pythonhosted.org/packages/4a/26/8c72973b8833a72785cedc3981eb59b8ac7075942718bbb7b69b352cdde4/pymupdf-1.26.3-cp39-abi3-win_amd64.whl.metadata\n",
      "  Downloading pymupdf-1.26.3-cp39-abi3-win_amd64.whl.metadata (3.4 kB)\n",
      "Downloading pymupdf-1.26.3-cp39-abi3-win_amd64.whl (18.7 MB)\n",
      1\n",
      
      "Installing collected packages: PyMuPDF\n",
      "Successfully installed PyMuPDF-1.26.3\n",
      "Note: you may need to restart the kernel to use updated packages.\n"
     ]
    }
   ],
   "source": [
    "pip install PyMuPDF\n"
   ]
  },
  {
   "cell_type": "code",
   "execution_count": 2,
   "id": "0e0790d4",
   "metadata": {},
   "outputs": [
    {
     "name": "stdout",
     "output_type": "stream",
     "text": [
      "✅ Compressed PDF saved as visitors_compressed.pdf\n"
     ]
    }
   ],
   "source": [
    "import fitz  # PyMuPDF\n",
    "\n",
    "input_pdf = \"visitors.pdf\"\n",
    "output_pdf = \"visitors_new.pdf\"\n",
    "\n",
    "doc = fitz.open(input_pdf)\n",
    "\n",
    "# Reduce image quality for each page\n",
    "for page in doc:\n",
    "    pix = page.get_pixmap(matrix=fitz.Matrix(1, 1), alpha=False)\n",
    "    page.clean_contents()  # Clean previous high-res images\n",
    "    page.insert_image(page.rect, pixmap=pix)\n",
    "\n",
    "doc.save(output_pdf)\n",
    "doc.close()\n",
    "\n",
    "print(\" Compressed PDF saved as visitors_compressed.pdf\")\n"
   ]
  },
  {
   "cell_type": "code",
   "execution_count": 3,
   "id": "bc15dc10",
   "metadata": {},
   "outputs": [
    {
     "name": "stdout",
     "output_type": "stream",
     "text": [
      "Collecting pdf2image\n",
      "  Obtaining dependency information for pdf2image from https://files.pythonhosted.org/packages/62/33/61766ae033518957f877ab246f87ca30a85b778ebaad65b7f74fa7e52988/pdf2image-1.17.0-py3-none-any.whl.metadata\n",
      "  Downloading pdf2image-1.17.0-py3-none-any.whl.metadata (6.2 kB)\n",
      "Requirement already satisfied: pillow in c:\\users\\rajay\\anaconda3\\lib\\site-packages (from pdf2image) (10.2.0)\n",
      "Downloading pdf2image-1.17.0-py3-none-any.whl (11 kB)\n",
      "Installing collected packages: pdf2image\n",
      "Successfully installed pdf2image-1.17.0\n",
      "Note: you may need to restart the kernel to use updated packages.\n"
     ]
    }
   ],
   "source": [
    "pip install pdf2image\n"
   ]
  },
  {
   "cell_type": "code",
   "execution_count": 1,
   "id": "7e78a3e5",
   "metadata": {},
   "outputs": [
    {
     "name": "stdout",
     "output_type": "stream",
     "text": [
      "✅ First page saved as image.\n"
     ]
    }
   ],
   "source": [
    "from pdf2image import convert_from_path\n",
    "\n",
    "pdf_path = \"visitors.pdf\"\n",
    "images = convert_from_path(pdf_path)\n",
    "\n",
    "# Save only the first page to test\n",
    "images[0].save(\"page1.jpg\", \"JPEG\")\n",
    "print(\" First page saved as image.\")\n"
   ]
  },
  {
   "cell_type": "code",
   "execution_count": 2,
   "id": "f0016a53",
   "metadata": {},
   "outputs": [
    {
     "name": "stdout",
     "output_type": "stream",
     "text": [
      "✅ Azure processed the image successfully!\n"
     ]
    }
   ],
   "source": [
    "from azure.ai.formrecognizer import DocumentAnalysisClient\n",
    "from azure.core.credentials import AzureKeyCredential\n",
    "\n",
    "endpoint = \"https://visitors500description.cognitiveservices.azure.com/\"\n",
    "key = \"oooooo\"\n",
    "\n",
    "client = DocumentAnalysisClient(endpoint, AzureKeyCredential(key))\n",
    "\n",
    "with open(\"page1.jpg\", \"rb\") as f:\n",
    "    poller = client.begin_analyze_document(\"prebuilt-document\", document=f)\n",
    "    result = poller.result()\n",
    "\n",
    "print(\"Azure processed the image successfully!\")\n"
   ]
  },
  {
   "cell_type": "code",
   "execution_count": 3,
   "id": "520c0cec",
   "metadata": {},
   "outputs": [
    {
     "name": "stdout",
     "output_type": "stream",
     "text": [
      "✅ Tables extracted and saved to output_tables.xlsx!\n"
     ]
    }
   ],
   "source": [
    "import pandas as pd\n",
    "\n",
    "# Create a list to hold all tables\n",
    "all_tables = []\n",
    "\n",
    "# Loop through each table in the result\n",
    "for i, table in enumerate(result.tables):\n",
    "    data = []\n",
    "\n",
    "    # Extract each row of the table\n",
    "    for row_idx in range(table.row_count):\n",
    "        row_data = []\n",
    "        for col_idx in range(table.column_count):\n",
    "            # Find the cell at this row/column\n",
    "            cell = next(\n",
    "                (c for c in table.cells if c.row_index == row_idx and c.column_index == col_idx),\n",
    "                None\n",
    "            )\n",
    "            row_data.append(cell.content if cell else \"\")\n",
    "        data.append(row_data)\n",
    "\n",
    "    # Convert the current table to DataFrame\n",
    "    df = pd.DataFrame(data)\n",
    "    all_tables.append((f\"Table_{i+1}\", df))\n",
    "\n",
    "# Save to Excel file\n",
    "with pd.ExcelWriter(\"output_tables.xlsx\") as writer:\n",
    "    for sheet_name, df in all_tables:\n",
    "        df.to_excel(writer, sheet_name=sheet_name, index=False)\n",
    "\n",
    "print(\" Tables extracted and saved to output_tables.xlsx!\")\n"
   ]
  },
  {
   "cell_type": "code",
   "execution_count": 4,
   "id": "a42e9fa0",
   "metadata": {},
   "outputs": [
    {
     "data": {
      "text/html": [
       "<div>\n",
       "<style scoped>\n",
       "    .dataframe tbody tr th:only-of-type {\n",
       "        vertical-align: middle;\n",
       "    }\n",
       "\n",
       "    .dataframe tbody tr th {\n",
       "        vertical-align: top;\n",
       "    }\n",
       "\n",
       "    .dataframe thead th {\n",
       "        text-align: right;\n",
       "    }\n",
       "</style>\n",
       "<table border=\"1\" class=\"dataframe\">\n",
       "  <thead>\n",
       "    <tr style=\"text-align: right;\">\n",
       "      <th></th>\n",
       "      <th>0</th>\n",
       "      <th>1</th>\n",
       "      <th>2</th>\n",
       "      <th>3</th>\n",
       "    </tr>\n",
       "  </thead>\n",
       "  <tbody>\n",
       "    <tr>\n",
       "      <th>0</th>\n",
       "      <td>DAY-1 Date</td>\n",
       "      <td>Name \" Address</td>\n",
       "      <td>E. Mail</td>\n",
       "      <td>Feedback</td>\n",
       "    </tr>\n",
       "    <tr>\n",
       "      <th>1</th>\n",
       "      <td>10.07.255</td>\n",
       "      <td>Karthick. (Krishnagiri),</td>\n",
       "      <td>94802 71417.</td>\n",
       "      <td>15 acres Farming. (all crops).</td>\n",
       "    </tr>\n",
       "    <tr>\n",
       "      <th>2</th>\n",
       "      <td>10.07.25.\\n2)</td>\n",
       "      <td>Balasubramaniam (COCOTRAP)\\nTANJORE. :selected...</td>\n",
       "      <td>9442111366.</td>\n",
       "      <td>COCONUT (BORK).</td>\n",
       "    </tr>\n",
       "    <tr>\n",
       "      <th>3</th>\n",
       "      <td>3</td>\n",
       "      <td>Rajía (Salem).</td>\n",
       "      <td>99 652 30 846.</td>\n",
       "      <td>All crops</td>\n",
       "    </tr>\n",
       "    <tr>\n",
       "      <th>4</th>\n",
       "      <td>4)</td>\n",
       "      <td>Shankar. Truvanamalai</td>\n",
       "      <td>9943 591283</td>\n",
       "      <td>Trubblegum Roban.</td>\n",
       "    </tr>\n",
       "    <tr>\n",
       "      <th>5</th>\n",
       "      <td>5)</td>\n",
       "      <td>Senthil (Arakonan)</td>\n",
       "      <td>96 77 180 550-</td>\n",
       "      <td>Coco Trap.</td>\n",
       "    </tr>\n",
       "    <tr>\n",
       "      <th>6</th>\n",
       "      <td>6) 1</td>\n",
       "      <td>Rajque (Tanjore)</td>\n",
       "      <td>90431 34089</td>\n",
       "      <td>coco trap</td>\n",
       "    </tr>\n",
       "    <tr>\n",
       "      <th>7</th>\n",
       "      <td>7)</td>\n",
       "      <td>Vanjappon. (vallonfoie)</td>\n",
       "      <td>9443925549</td>\n",
       "      <td>Coconut-</td>\n",
       "    </tr>\n",
       "    <tr>\n",
       "      <th>8</th>\n",
       "      <td>8)</td>\n",
       "      <td>Gopi (Burani)</td>\n",
       "      <td>99 767 53 469.</td>\n",
       "      <td>Coco Trop arguing</td>\n",
       "    </tr>\n",
       "  </tbody>\n",
       "</table>\n",
       "</div>"
      ],
      "text/plain": [
       "               0                                                  1  \\\n",
       "0     DAY-1 Date                                     Name \" Address   \n",
       "1      10.07.255                           Karthick. (Krishnagiri),   \n",
       "2  10.07.25.\\n2)  Balasubramaniam (COCOTRAP)\\nTANJORE. :selected...   \n",
       "3              3                                     Rajía (Salem).   \n",
       "4             4)                              Shankar. Truvanamalai   \n",
       "5             5)                                 Senthil (Arakonan)   \n",
       "6           6) 1                                   Rajque (Tanjore)   \n",
       "7             7)                            Vanjappon. (vallonfoie)   \n",
       "8             8)                                      Gopi (Burani)   \n",
       "\n",
       "                2                               3  \n",
       "0         E. Mail                        Feedback  \n",
       "1    94802 71417.  15 acres Farming. (all crops).  \n",
       "2     9442111366.                 COCONUT (BORK).  \n",
       "3  99 652 30 846.                       All crops  \n",
       "4     9943 591283               Trubblegum Roban.  \n",
       "5  96 77 180 550-                      Coco Trap.  \n",
       "6     90431 34089                       coco trap  \n",
       "7      9443925549                        Coconut-  \n",
       "8  99 767 53 469.               Coco Trop arguing  "
      ]
     },
     "execution_count": 4,
     "metadata": {},
     "output_type": "execute_result"
    }
   ],
   "source": [
    "# Display the first table\n",
    "all_tables[0][1]\n"
   ]
  },
  {
   "cell_type": "code",
   "execution_count": 5,
   "id": "8268f0f2",
   "metadata": {},
   "outputs": [
    {
     "name": "stdout",
     "output_type": "stream",
     "text": [
      "✅ All tables combined and saved to Combined_Tables_From_PDF.xlsx\n"
     ]
    }
   ],
   "source": [
    "from pdf2image import convert_from_path\n",
    "import os\n",
    "import pandas as pd\n",
    "from azure.ai.formrecognizer import DocumentAnalysisClient\n",
    "from azure.core.credentials import AzureKeyCredential\n",
    "from PIL import Image\n",
    "from io import BytesIO\n",
    "\n",
    "# Azure credentials\n",
    "endpoint = \"https://visitors500description.cognitiveservices.azure.com/\"\n",
    "key = \"ooooooooooo\"\n",
    "client = DocumentAnalysisClient(endpoint=endpoint, credential=AzureKeyCredential(key))\n",
    "\n",
    "# Convert full PDF to images\n",
    "pdf_path = \"visitors.pdf\"\n",
    "images = convert_from_path(pdf_path)\n",
    "\n",
    "# List to hold all tables\n",
    "combined_data = []\n",
    "\n",
    "# Process each page\n",
    "for page_num, image in enumerate(images, start=1):\n",
    "    # Convert image to bytes\n",
    "    img_byte_arr = BytesIO()\n",
    "    image.save(img_byte_arr, format=\"PNG\")\n",
    "    img_byte_arr.seek(0)\n",
    "\n",
    "    # Analyze the image\n",
    "    poller = client.begin_analyze_document(\"prebuilt-layout\", document=img_byte_arr)\n",
    "    result = poller.result()\n",
    "\n",
    "    for i, table in enumerate(result.tables):\n",
    "        data = []\n",
    "\n",
    "        for row_idx in range(table.row_count):\n",
    "            row_data = []\n",
    "            for col_idx in range(table.column_count):\n",
    "                cell = next(\n",
    "                    (c for c in table.cells if c.row_index == row_idx and c.column_index == col_idx),\n",
    "                    None\n",
    "                )\n",
    "                row_data.append(cell.content if cell else \"\")\n",
    "            data.append(row_data)\n",
    "\n",
    "        df = pd.DataFrame(data)\n",
    "        df.insert(0, \"Page\", page_num)\n",
    "        df.insert(1, \"Table\", i + 1)\n",
    "        combined_data.append(df)\n",
    "\n",
    "# Combine all into one DataFrame\n",
    "final_df = pd.concat(combined_data, ignore_index=True)\n",
    "\n",
    "# Save to a single Excel sheet\n",
    "final_df.to_excel(\"Combined_Tables_From_PDF.xlsx\", index=False)\n",
    "\n",
    "print(\" All tables combined and saved to Combined_Tables_From_PDF.xlsx\")\n"
   ]
  },
  {
   "cell_type": "code",
   "execution_count": 6,
   "id": "808032f3",
   "metadata": {},
   "outputs": [
    {
     "data": {
      "text/html": [
       "<div>\n",
       "<style scoped>\n",
       "    .dataframe tbody tr th:only-of-type {\n",
       "        vertical-align: middle;\n",
       "    }\n",
       "\n",
       "    .dataframe tbody tr th {\n",
       "        vertical-align: top;\n",
       "    }\n",
       "\n",
       "    .dataframe thead th {\n",
       "        text-align: right;\n",
       "    }\n",
       "</style>\n",
       "<table border=\"1\" class=\"dataframe\">\n",
       "  <thead>\n",
       "    <tr style=\"text-align: right;\">\n",
       "      <th></th>\n",
       "      <th>Page</th>\n",
       "      <th>Table</th>\n",
       "      <th>0</th>\n",
       "      <th>1</th>\n",
       "      <th>2</th>\n",
       "      <th>3</th>\n",
       "    </tr>\n",
       "  </thead>\n",
       "  <tbody>\n",
       "    <tr>\n",
       "      <th>0</th>\n",
       "      <td>1</td>\n",
       "      <td>1</td>\n",
       "      <td>DAY-1 Date</td>\n",
       "      <td>Name \" Address</td>\n",
       "      <td>E. Mail</td>\n",
       "      <td>Feedback</td>\n",
       "    </tr>\n",
       "    <tr>\n",
       "      <th>1</th>\n",
       "      <td>1</td>\n",
       "      <td>1</td>\n",
       "      <td>10.07.255</td>\n",
       "      <td>Karthick. (Krishnagiri).</td>\n",
       "      <td>94802 71417.</td>\n",
       "      <td>15 acres Farming. (all crops).</td>\n",
       "    </tr>\n",
       "    <tr>\n",
       "      <th>2</th>\n",
       "      <td>1</td>\n",
       "      <td>1</td>\n",
       "      <td>10.07.25. 2)</td>\n",
       "      <td>Balasubramaniam (COCOTRAP) TANJORE.\\n:selected:</td>\n",
       "      <td>9442111366.</td>\n",
       "      <td>COCONUT (BORK).</td>\n",
       "    </tr>\n",
       "    <tr>\n",
       "      <th>3</th>\n",
       "      <td>1</td>\n",
       "      <td>1</td>\n",
       "      <td>LE .</td>\n",
       "      <td>Raja (Salem).</td>\n",
       "      <td>99 652 30 846.</td>\n",
       "      <td>Allcrops .</td>\n",
       "    </tr>\n",
       "    <tr>\n",
       "      <th>4</th>\n",
       "      <td>1</td>\n",
       "      <td>1</td>\n",
       "      <td>4)</td>\n",
       "      <td>Shankar. Truvanamalai</td>\n",
       "      <td>9943 591283</td>\n",
       "      <td>Trubblegum Roban.</td>\n",
       "    </tr>\n",
       "  </tbody>\n",
       "</table>\n",
       "</div>"
      ],
      "text/plain": [
       "   Page  Table             0                                                1  \\\n",
       "0     1      1    DAY-1 Date                                   Name \" Address   \n",
       "1     1      1     10.07.255                         Karthick. (Krishnagiri).   \n",
       "2     1      1  10.07.25. 2)  Balasubramaniam (COCOTRAP) TANJORE.\\n:selected:   \n",
       "3     1      1          LE .                                    Raja (Salem).   \n",
       "4     1      1            4)                            Shankar. Truvanamalai   \n",
       "\n",
       "                2                               3  \n",
       "0         E. Mail                        Feedback  \n",
       "1    94802 71417.  15 acres Farming. (all crops).  \n",
       "2     9442111366.                 COCONUT (BORK).  \n",
       "3  99 652 30 846.                      Allcrops .  \n",
       "4     9943 591283               Trubblegum Roban.  "
      ]
     },
     "execution_count": 6,
     "metadata": {},
     "output_type": "execute_result"
    }
   ],
   "source": [
    "# Import the required library\n",
    "import pandas as pd\n",
    "\n",
    "# Load the saved Excel file\n",
    "df_loaded = pd.read_excel(\"Combined_Tables_From_PDF.xlsx\")\n",
    "\n",
    "# Display the first few rows\n",
    "df_loaded.head()  # You can also use df_loaded.tail() to see the bottom rows\n"
   ]
  },
  {
   "cell_type": "code",
   "execution_count": null,
   "id": "b7a2ef68",
   "metadata": {},
   "outputs": [],
   "source": []
  }
 ],
 "metadata": {
  "kernelspec": {
   "display_name": "Python 3 (ipykernel)",
   "language": "python",
   "name": "python3"
  },
  "language_info": {
   "codemirror_mode": {
    "name": "ipython",
    "version": 3
   },
   "file_extension": ".py",
   "mimetype": "text/x-python",
   "name": "python",
   "nbconvert_exporter": "python",
   "pygments_lexer": "ipython3",
   "version": "3.11.4"
  }
 },
 "nbformat": 4,
 "nbformat_minor": 5
}
